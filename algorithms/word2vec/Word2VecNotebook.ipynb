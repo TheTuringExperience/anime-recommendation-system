{
 "cells": [
  {
   "cell_type": "code",
   "execution_count": 1,
   "metadata": {},
   "outputs": [
    {
     "name": "stderr",
     "output_type": "stream",
     "text": [
      "[nltk_data] Downloading package stopwords to\n",
      "[nltk_data]     C:\\Users\\ckkok\\AppData\\Roaming\\nltk_data...\n",
      "[nltk_data]   Unzipping corpora\\stopwords.zip.\n"
     ]
    }
   ],
   "source": [
    "# Importing necessary libraries\n",
    "import pandas as pd\n",
    "import numpy as np\n",
    "import nltk\n",
    "nltk.download('stopwords')\n",
    "from nltk.corpus import stopwords\n",
    "from sklearn.metrics.pairwise import linear_kernel\n",
    "from sklearn.feature_extraction.text import CountVectorizer\n",
    "from sklearn.feature_extraction.text import TfidfVectorizer\n",
    "from nltk.tokenize import RegexpTokenizer\n",
    "import re\n",
    "import string\n",
    "import random\n",
    "from PIL import Image\n",
    "import requests\n",
    "from io import BytesIO\n",
    "import matplotlib.pyplot as plt\n",
    "%matplotlib inline\n",
    "from sklearn.metrics.pairwise import cosine_similarity\n",
    "from gensim.models import Word2Vec\n",
    "from gensim.models.phrases import Phrases, Phraser\n",
    "from matplotlib import pyplot\n",
    "from gensim.models import KeyedVectors"
   ]
  },
  {
   "cell_type": "code",
   "execution_count": 8,
   "metadata": {},
   "outputs": [],
   "source": [
    "import os"
   ]
  },
  {
   "cell_type": "code",
   "execution_count": 5,
   "metadata": {},
   "outputs": [],
   "source": [
    "# Reading the data\n",
    "code_df = pd.read_csv(\"../../data/anime_codes.csv\")"
   ]
  },
  {
   "cell_type": "code",
   "execution_count": 6,
   "metadata": {
    "scrolled": true
   },
   "outputs": [
    {
     "data": {
      "text/html": [
       "<div>\n",
       "<style scoped>\n",
       "    .dataframe tbody tr th:only-of-type {\n",
       "        vertical-align: middle;\n",
       "    }\n",
       "\n",
       "    .dataframe tbody tr th {\n",
       "        vertical-align: top;\n",
       "    }\n",
       "\n",
       "    .dataframe thead th {\n",
       "        text-align: right;\n",
       "    }\n",
       "</style>\n",
       "<table border=\"1\" class=\"dataframe\">\n",
       "  <thead>\n",
       "    <tr style=\"text-align: right;\">\n",
       "      <th></th>\n",
       "      <th>code</th>\n",
       "      <th>name</th>\n",
       "      <th>rating</th>\n",
       "    </tr>\n",
       "  </thead>\n",
       "  <tbody>\n",
       "    <tr>\n",
       "      <th>0</th>\n",
       "      <td>5114</td>\n",
       "      <td>fullmetal_alchemist__brotherhood</td>\n",
       "      <td>9.22</td>\n",
       "    </tr>\n",
       "    <tr>\n",
       "      <th>1</th>\n",
       "      <td>11061</td>\n",
       "      <td>hunter_x_hunter_2011</td>\n",
       "      <td>9.12</td>\n",
       "    </tr>\n",
       "    <tr>\n",
       "      <th>2</th>\n",
       "      <td>28977</td>\n",
       "      <td>gintama°</td>\n",
       "      <td>9.11</td>\n",
       "    </tr>\n",
       "    <tr>\n",
       "      <th>3</th>\n",
       "      <td>9969</td>\n",
       "      <td>gintama</td>\n",
       "      <td>9.09</td>\n",
       "    </tr>\n",
       "    <tr>\n",
       "      <th>4</th>\n",
       "      <td>38524</td>\n",
       "      <td>shingeki_no_kyojin_season_3_part_2</td>\n",
       "      <td>9.07</td>\n",
       "    </tr>\n",
       "  </tbody>\n",
       "</table>\n",
       "</div>"
      ],
      "text/plain": [
       "    code                                name  rating\n",
       "0   5114    fullmetal_alchemist__brotherhood    9.22\n",
       "1  11061                hunter_x_hunter_2011    9.12\n",
       "2  28977                            gintama°    9.11\n",
       "3   9969                             gintama    9.09\n",
       "4  38524  shingeki_no_kyojin_season_3_part_2    9.07"
      ]
     },
     "execution_count": 6,
     "metadata": {},
     "output_type": "execute_result"
    }
   ],
   "source": [
    "code_df.head()"
   ]
  },
  {
   "cell_type": "code",
   "execution_count": 23,
   "metadata": {},
   "outputs": [
    {
     "data": {
      "text/plain": [
       "(877, 2)"
      ]
     },
     "execution_count": 23,
     "metadata": {},
     "output_type": "execute_result"
    }
   ],
   "source": [
    "# Read the review data\n",
    "reviews_dir = \"../../data/reviews\"\n",
    "all_reviews = list()\n",
    "\n",
    "for index, review_doc in enumerate(os.listdir(reviews_dir)):\n",
    "    current_dict = dict()\n",
    "        \n",
    "    # Get the current anime's code\n",
    "    current_dict['code'] = review_doc.split('.')[0]\n",
    "    \n",
    "    # Get the current anime's reviews\n",
    "    f = open(os.path.join(reviews_dir, review_doc), 'r', encoding=\"utf-8\")\n",
    "    current_dict['review'] = f.read()\n",
    "    f.close()\n",
    "    \n",
    "    all_reviews.append(current_dict)\n",
    "\n",
    "# Create a dataframe of the anime codes and their respective reviews\n",
    "review_df = pd.DataFrame(all_reviews)\n",
    "review_df.shape"
   ]
  },
  {
   "cell_type": "code",
   "execution_count": 24,
   "metadata": {},
   "outputs": [
    {
     "name": "stdout",
     "output_type": "stream",
     "text": [
      "(877, 4)\n"
     ]
    },
    {
     "data": {
      "text/html": [
       "<div>\n",
       "<style scoped>\n",
       "    .dataframe tbody tr th:only-of-type {\n",
       "        vertical-align: middle;\n",
       "    }\n",
       "\n",
       "    .dataframe tbody tr th {\n",
       "        vertical-align: top;\n",
       "    }\n",
       "\n",
       "    .dataframe thead th {\n",
       "        text-align: right;\n",
       "    }\n",
       "</style>\n",
       "<table border=\"1\" class=\"dataframe\">\n",
       "  <thead>\n",
       "    <tr style=\"text-align: right;\">\n",
       "      <th></th>\n",
       "      <th>code</th>\n",
       "      <th>review</th>\n",
       "      <th>name</th>\n",
       "      <th>rating</th>\n",
       "    </tr>\n",
       "  </thead>\n",
       "  <tbody>\n",
       "    <tr>\n",
       "      <th>0</th>\n",
       "      <td>1</td>\n",
       "      <td>People who know me know that I'm not a fan of ...</td>\n",
       "      <td>cowboy_bebop</td>\n",
       "      <td>8.79</td>\n",
       "    </tr>\n",
       "    <tr>\n",
       "      <th>1</th>\n",
       "      <td>1000</td>\n",
       "      <td>There is a reason this is considered to be one...</td>\n",
       "      <td>uchuu_kaizoku_captain_herlock</td>\n",
       "      <td>7.72</td>\n",
       "    </tr>\n",
       "    <tr>\n",
       "      <th>2</th>\n",
       "      <td>1002</td>\n",
       "      <td>Many people will know the name of Hideaki Anno...</td>\n",
       "      <td>top_wo_nerae_2_diebuster</td>\n",
       "      <td>7.68</td>\n",
       "    </tr>\n",
       "    <tr>\n",
       "      <th>3</th>\n",
       "      <td>10033</td>\n",
       "      <td>\"Cooking is as masculine as judo, kickboxing o...</td>\n",
       "      <td>toriko</td>\n",
       "      <td>7.59</td>\n",
       "    </tr>\n",
       "    <tr>\n",
       "      <th>4</th>\n",
       "      <td>10049</td>\n",
       "      <td>After finishing the first series of Nurarihyon...</td>\n",
       "      <td>nurarihyon_no_mago__sennen_makyou</td>\n",
       "      <td>8.02</td>\n",
       "    </tr>\n",
       "  </tbody>\n",
       "</table>\n",
       "</div>"
      ],
      "text/plain": [
       "    code                                             review  \\\n",
       "0      1  People who know me know that I'm not a fan of ...   \n",
       "1   1000  There is a reason this is considered to be one...   \n",
       "2   1002  Many people will know the name of Hideaki Anno...   \n",
       "3  10033  \"Cooking is as masculine as judo, kickboxing o...   \n",
       "4  10049  After finishing the first series of Nurarihyon...   \n",
       "\n",
       "                                name  rating  \n",
       "0                       cowboy_bebop    8.79  \n",
       "1      uchuu_kaizoku_captain_herlock    7.72  \n",
       "2           top_wo_nerae_2_diebuster    7.68  \n",
       "3                             toriko    7.59  \n",
       "4  nurarihyon_no_mago__sennen_makyou    8.02  "
      ]
     },
     "execution_count": 24,
     "metadata": {},
     "output_type": "execute_result"
    }
   ],
   "source": [
    "# Match the name and rating of animes in code_df to the anime reviews dataframe\n",
    "review_df['code']=review_df['code'].astype(int)\n",
    "df = pd.merge(review_df, code_df, on='code')\n",
    "print(df.shape)\n",
    "df.head()"
   ]
  },
  {
   "cell_type": "code",
   "execution_count": 25,
   "metadata": {},
   "outputs": [],
   "source": [
    "#Utitlity functions for removing ASCII characters, converting lower case, removing stop words, html and punctuation from description\n",
    "\n",
    "def _removeNonAscii(s):\n",
    "    return \"\".join(i for i in s if  ord(i)<128)\n",
    "\n",
    "def make_lower_case(text):\n",
    "    return text.lower()\n",
    "\n",
    "def remove_stop_words(text):\n",
    "    text = text.split()\n",
    "    stops = set(stopwords.words(\"english\"))\n",
    "    text = [w for w in text if not w in stops]\n",
    "    text = \" \".join(text)\n",
    "    return text\n",
    "\n",
    "def remove_html(text):\n",
    "    html_pattern = re.compile('<.*?>')\n",
    "    return html_pattern.sub(r'', text)\n",
    "\n",
    "def remove_punctuation(text):\n",
    "    tokenizer = RegexpTokenizer(r'\\w+')\n",
    "    text = tokenizer.tokenize(text)\n",
    "    text = \" \".join(text)\n",
    "    return text\n"
   ]
  },
  {
   "cell_type": "code",
   "execution_count": 26,
   "metadata": {},
   "outputs": [
    {
     "data": {
      "text/html": [
       "<div>\n",
       "<style scoped>\n",
       "    .dataframe tbody tr th:only-of-type {\n",
       "        vertical-align: middle;\n",
       "    }\n",
       "\n",
       "    .dataframe tbody tr th {\n",
       "        vertical-align: top;\n",
       "    }\n",
       "\n",
       "    .dataframe thead th {\n",
       "        text-align: right;\n",
       "    }\n",
       "</style>\n",
       "<table border=\"1\" class=\"dataframe\">\n",
       "  <thead>\n",
       "    <tr style=\"text-align: right;\">\n",
       "      <th></th>\n",
       "      <th>code</th>\n",
       "      <th>review</th>\n",
       "      <th>name</th>\n",
       "      <th>rating</th>\n",
       "      <th>cleaned</th>\n",
       "    </tr>\n",
       "  </thead>\n",
       "  <tbody>\n",
       "    <tr>\n",
       "      <th>0</th>\n",
       "      <td>1</td>\n",
       "      <td>People who know me know that I'm not a fan of ...</td>\n",
       "      <td>cowboy_bebop</td>\n",
       "      <td>8.79</td>\n",
       "      <td>people know know i m fan episodic anime series...</td>\n",
       "    </tr>\n",
       "    <tr>\n",
       "      <th>1</th>\n",
       "      <td>1000</td>\n",
       "      <td>There is a reason this is considered to be one...</td>\n",
       "      <td>uchuu_kaizoku_captain_herlock</td>\n",
       "      <td>7.72</td>\n",
       "      <td>reason considered one greatest anime series ev...</td>\n",
       "    </tr>\n",
       "    <tr>\n",
       "      <th>2</th>\n",
       "      <td>1002</td>\n",
       "      <td>Many people will know the name of Hideaki Anno...</td>\n",
       "      <td>top_wo_nerae_2_diebuster</td>\n",
       "      <td>7.68</td>\n",
       "      <td>many people know name hideaki anno particular ...</td>\n",
       "    </tr>\n",
       "    <tr>\n",
       "      <th>3</th>\n",
       "      <td>10033</td>\n",
       "      <td>\"Cooking is as masculine as judo, kickboxing o...</td>\n",
       "      <td>toriko</td>\n",
       "      <td>7.59</td>\n",
       "      <td>cooking masculine judo kickboxing tae kwan do ...</td>\n",
       "    </tr>\n",
       "    <tr>\n",
       "      <th>4</th>\n",
       "      <td>10049</td>\n",
       "      <td>After finishing the first series of Nurarihyon...</td>\n",
       "      <td>nurarihyon_no_mago__sennen_makyou</td>\n",
       "      <td>8.02</td>\n",
       "      <td>finishing first series nurarihyon mago bit rel...</td>\n",
       "    </tr>\n",
       "  </tbody>\n",
       "</table>\n",
       "</div>"
      ],
      "text/plain": [
       "    code                                             review  \\\n",
       "0      1  People who know me know that I'm not a fan of ...   \n",
       "1   1000  There is a reason this is considered to be one...   \n",
       "2   1002  Many people will know the name of Hideaki Anno...   \n",
       "3  10033  \"Cooking is as masculine as judo, kickboxing o...   \n",
       "4  10049  After finishing the first series of Nurarihyon...   \n",
       "\n",
       "                                name  rating  \\\n",
       "0                       cowboy_bebop    8.79   \n",
       "1      uchuu_kaizoku_captain_herlock    7.72   \n",
       "2           top_wo_nerae_2_diebuster    7.68   \n",
       "3                             toriko    7.59   \n",
       "4  nurarihyon_no_mago__sennen_makyou    8.02   \n",
       "\n",
       "                                             cleaned  \n",
       "0  people know know i m fan episodic anime series...  \n",
       "1  reason considered one greatest anime series ev...  \n",
       "2  many people know name hideaki anno particular ...  \n",
       "3  cooking masculine judo kickboxing tae kwan do ...  \n",
       "4  finishing first series nurarihyon mago bit rel...  "
      ]
     },
     "execution_count": 26,
     "metadata": {},
     "output_type": "execute_result"
    }
   ],
   "source": [
    "df['cleaned'] = df['review'].apply(_removeNonAscii)\n",
    "df['cleaned'] = df.cleaned.apply(func = make_lower_case)\n",
    "df['cleaned'] = df.cleaned.apply(func = remove_stop_words)\n",
    "df['cleaned'] = df.cleaned.apply(func=remove_punctuation)\n",
    "df['cleaned'] = df.cleaned.apply(func=remove_html)\n",
    "df.head()"
   ]
  },
  {
   "cell_type": "code",
   "execution_count": null,
   "metadata": {},
   "outputs": [],
   "source": []
  }
 ],
 "metadata": {
  "kernelspec": {
   "display_name": "Python 3",
   "language": "python",
   "name": "python3"
  },
  "language_info": {
   "codemirror_mode": {
    "name": "ipython",
    "version": 3
   },
   "file_extension": ".py",
   "mimetype": "text/x-python",
   "name": "python",
   "nbconvert_exporter": "python",
   "pygments_lexer": "ipython3",
   "version": "3.7.0"
  }
 },
 "nbformat": 4,
 "nbformat_minor": 4
}
