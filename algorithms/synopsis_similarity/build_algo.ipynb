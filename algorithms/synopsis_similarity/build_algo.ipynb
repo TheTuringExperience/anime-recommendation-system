{
 "cells": [
  {
   "cell_type": "code",
   "execution_count": 1,
   "metadata": {
    "scrolled": true
   },
   "outputs": [],
   "source": [
    "import re\n",
    "import time\n",
    "import pickle\n",
    "import numpy as np\n",
    "import scipy\n",
    "import pandas as pd\n",
    "from sentence_transformers import SentenceTransformer"
   ]
  },
  {
   "cell_type": "code",
   "execution_count": 2,
   "metadata": {},
   "outputs": [],
   "source": [
    "model = SentenceTransformer('bert-base-nli-mean-tokens')"
   ]
  },
  {
   "cell_type": "code",
   "execution_count": 5,
   "metadata": {},
   "outputs": [],
   "source": [
    "animes_df = pd.read_csv(\"../../data/anime_data.csv\", encoding=\"utf-8\")"
   ]
  },
  {
   "cell_type": "code",
   "execution_count": 6,
   "metadata": {},
   "outputs": [],
   "source": [
    "#eliminate that anoying ending message\n",
    "animes_df['synopsis'] = animes_df.synopsis.apply(lambda x: re.sub(r\" \\[Written by MAL Rewrite\\]\", \"\", str(x)))\n",
    "#elimnitate any anime with a synopsis that has less than 2 sentences\n",
    "animes_df = animes_df[animes_df.synopsis.map(lambda x: len(x.split(\". \")) >= 1)]"
   ]
  },
  {
   "cell_type": "code",
   "execution_count": 7,
   "metadata": {},
   "outputs": [],
   "source": [
    "synopsis_corpus = [synopsis.split(\". \") for synopsis in animes_df.synopsis.tolist()]\n",
    "codes_list = [code for code in animes_df.code.tolist()]"
   ]
  },
  {
   "cell_type": "code",
   "execution_count": 8,
   "metadata": {},
   "outputs": [],
   "source": [
    "corpus_embeddings = []\n",
    "for synopsis in synopsis_corpus:\n",
    "    synopsus_embedding = []\n",
    "    for sentence in synopsis:\n",
    "        synopsus_embedding.append(model.encode(sentence))\n",
    "    corpus_embeddings.append(sum(synopsus_embedding))    "
   ]
  },
  {
   "cell_type": "code",
   "execution_count": 9,
   "metadata": {},
   "outputs": [],
   "source": [
    "query = synopsis_corpus[6]\n",
    "embeddings = []\n",
    "for sentence in query:\n",
    "    embeddings.append(model.encode(sentence))\n",
    "embedding = sum(embeddings)"
   ]
  },
  {
   "cell_type": "code",
   "execution_count": 10,
   "metadata": {
    "scrolled": false
   },
   "outputs": [
    {
     "name": "stdout",
     "output_type": "stream",
     "text": [
      "\n",
      "\n",
      "======================\n",
      "\n",
      "\n",
      "Query: ['After helping revive the legendary vampire Kiss-shot Acerola-orion Heart-under-blade, Koyomi Araragi has become a vampire himself and her servant', 'Kiss-shot is certain she can turn him back into a human, but only once regaining her full power', 'Araragi has hunted down the three vampire hunters that defeated Kiss-shot and retrieved her limbs to return her to full strength', 'However, now that Araragi has almost accomplished what he’s been fighting for this whole time, he has to consider if this is what he really wants', 'Once he revives this powerful immortal vampire, there is no telling what she might do, and there would be no way of stopping her', 'But there is more to the story that Araragi doesn’t understand', 'If a newborn vampire like him could defeat the hunters, how did they overpower Kiss-shot? Can he trust her to turn him back to a human? And how is that even possible in the first place? Araragi is at his limit but he must come to a decision, and it may not be possible to resolve this situation without doing something he’ll regret…']\n",
      "\n",
      "Top 5 most similar sentences in corpus:\n",
      "https://myanimelist.net/anime/31757 (Score: 0.8982)\n",
      "https://myanimelist.net/anime/270 (Score: 0.8646)\n",
      "https://myanimelist.net/anime/28927 (Score: 0.8562)\n",
      "https://myanimelist.net/anime/18153 (Score: 0.8525)\n"
     ]
    }
   ],
   "source": [
    "closest_n = 5\n",
    "distances = scipy.spatial.distance.cdist([embedding], corpus_embeddings, \"cosine\")[0]\n",
    "\n",
    "results = zip(range(len(distances)), distances)\n",
    "results = sorted(results, key=lambda x: x[1])\n",
    "\n",
    "print(\"\\n\\n======================\\n\\n\")\n",
    "print(\"Query:\", query)\n",
    "print(\"\\nTop 5 most similar sentences in corpus:\")\n",
    "\n",
    "for idx, distance in results[1:closest_n]:\n",
    "    print(\"https://myanimelist.net/anime/\" + str(codes_list[idx]), \"(Score: %.4f)\" % (1-distance))"
   ]
  },
  {
   "cell_type": "code",
   "execution_count": 11,
   "metadata": {},
   "outputs": [],
   "source": [
    "np.save(open (\"./synopsis_embeddings.npy\", 'wb'), corpus_embeddings)"
   ]
  },
  {
   "cell_type": "code",
   "execution_count": 12,
   "metadata": {},
   "outputs": [],
   "source": [
    "pickle.dump(codes_list, open(\"./anime_codes.pkl\", \"wb\"))"
   ]
  },
  {
   "cell_type": "code",
   "execution_count": null,
   "metadata": {},
   "outputs": [],
   "source": []
  }
 ],
 "metadata": {
  "kernelspec": {
   "display_name": "Python 3",
   "language": "python",
   "name": "python3"
  },
  "language_info": {
   "codemirror_mode": {
    "name": "ipython",
    "version": 3
   },
   "file_extension": ".py",
   "mimetype": "text/x-python",
   "name": "python",
   "nbconvert_exporter": "python",
   "pygments_lexer": "ipython3",
   "version": "3.8.6"
  }
 },
 "nbformat": 4,
 "nbformat_minor": 4
}
