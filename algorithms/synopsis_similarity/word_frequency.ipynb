{
 "cells": [
  {
   "cell_type": "code",
   "execution_count": 3,
   "metadata": {},
   "outputs": [],
   "source": [
    "import os\n",
    "import pickle\n",
    "from collections import Counter\n",
    "\n",
    "import nltk\n",
    "from nltk.corpus import stopwords\n",
    "\n",
    "import matplotlib.pyplot as plt\n",
    "import pandas as pd"
   ]
  },
  {
   "cell_type": "code",
   "execution_count": 7,
   "metadata": {
    "scrolled": true
   },
   "outputs": [],
   "source": [
    "data_dir = \"./synopsys_df.pkl\"\n",
    "df = pd.read_pickle(data_dir)\n",
    "corpus = \" \".join(df.synopsis.to_list())"
   ]
  },
  {
   "cell_type": "code",
   "execution_count": 8,
   "metadata": {},
   "outputs": [],
   "source": [
    "word_frequency = Counter(corpus.lower().split())"
   ]
  },
  {
   "cell_type": "code",
   "execution_count": 9,
   "metadata": {},
   "outputs": [],
   "source": [
    "stop_words = set(stopwords.words('english')) "
   ]
  },
  {
   "cell_type": "code",
   "execution_count": 21,
   "metadata": {
    "scrolled": true
   },
   "outputs": [],
   "source": [
    "subject_specific_stop_words = []\n",
    "for word, count in word_frequency.most_common(120):\n",
    "    if word not in stop_words:\n",
    "        subject_specific_stop_words.append(word)"
   ]
  },
  {
   "cell_type": "code",
   "execution_count": 22,
   "metadata": {
    "scrolled": true
   },
   "outputs": [
    {
     "name": "stdout",
     "output_type": "stream",
     "text": [
      "['(source:', 'one', 'mal', '[written', 'rewrite]', 'new', 'however,', 'school', 'world', 'ann)', 'two', 'life', 'high', 'girl', 'young', 'must', 'find', 'first', 'also', 'become', 'mysterious', 'story', 'time', 'years', 'named', 'friends', 'known', 'even', 'student', 'help', 'take', 'love', 'called', 'make', 'order', 'episode', 'finds', 'three', 'day', 'special', 'back', 'get', 'soon', 'girls', 'many', 'way', 'group', 'people', 'around', 'series']\n"
     ]
    }
   ],
   "source": [
    "print(subject_specific_stop_words)"
   ]
  },
  {
   "cell_type": "code",
   "execution_count": 27,
   "metadata": {},
   "outputs": [],
   "source": [
    "with open(\"./custom_stop_words.txt\", \"w\", encoding=\"utf-8\") as f:\n",
    "    for word in subject_specific_stop_words:\n",
    "        f.write(str(word + '\\n'))"
   ]
  },
  {
   "cell_type": "code",
   "execution_count": 18,
   "metadata": {
    "scrolled": true
   },
   "outputs": [
    {
     "data": {
      "image/png": "[encoded data removed]",
      "text/plain": [
       "<Figure size 432x288 with 1 Axes>"
      ]
     },
     "metadata": {
      "needs_background": "light"
     },
     "output_type": "display_data"
    }
   ],
   "source": [
    "word_frequency_list = sorted(set([x[1] for x in word_frequency.items() if x[1] not in stop_words]), reverse=True)\n",
    "ranking = [x[0] for x in enumerate(word_frequency_list)]\n",
    "axes = plt.gca()\n",
    "plt.scatter(x=ranking, y=word_frequency_list)\n",
    "plt.xlabel(\"Rank\")\n",
    "plt.ylabel(\"Frequency\")\n",
    "plt.show()"
   ]
  },
  {
   "cell_type": "code",
   "execution_count": null,
   "metadata": {},
   "outputs": [],
   "source": []
  }
 ],
 "metadata": {
  "kernelspec": {
   "display_name": "Python 3",
   "language": "python",
   "name": "python3"
  },
  "language_info": {
   "codemirror_mode": {
    "name": "ipython",
    "version": 3
   },
   "file_extension": ".py",
   "mimetype": "text/x-python",
   "name": "python",
   "nbconvert_exporter": "python",
   "pygments_lexer": "ipython3",
   "version": "3.7.3"
  }
 },
 "nbformat": 4,
 "nbformat_minor": 2
}
