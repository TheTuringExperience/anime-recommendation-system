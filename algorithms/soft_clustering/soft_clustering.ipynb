{
 "cells": [
  {
   "cell_type": "markdown",
   "metadata": {},
   "source": [
    "### Imports "
   ]
  },
  {
   "cell_type": "code",
   "execution_count": 86,
   "metadata": {
    "scrolled": true
   },
   "outputs": [],
   "source": [
    "import os\n",
    "from typing import List\n",
    "import re\n",
    "import pickle\n",
    "import numpy as np\n",
    "import pandas as pd\n",
    "from sklearn.preprocessing import OneHotEncoder"
   ]
  },
  {
   "cell_type": "markdown",
   "metadata": {},
   "source": [
    "### Creating files needed to run the recommender"
   ]
  },
  {
   "cell_type": "code",
   "execution_count": 4,
   "metadata": {},
   "outputs": [],
   "source": [
    "anime_data_path = \"../../data/anime_data.csv\""
   ]
  },
  {
   "cell_type": "code",
   "execution_count": 50,
   "metadata": {},
   "outputs": [],
   "source": [
    "animes_df = pd.read_csv(anime_data_path, encoding=\"utf-8\")[[\"name\", \"code\", \"premiered\", \"genres\"]]"
   ]
  },
  {
   "cell_type": "code",
   "execution_count": 53,
   "metadata": {},
   "outputs": [],
   "source": [
    "genres = list({genre  for genres_list in animes_df.genres.tolist() \n",
    "                        for genre in genres_list.split(\";\")})"
   ]
  },
  {
   "cell_type": "code",
   "execution_count": 54,
   "metadata": {},
   "outputs": [
    {
     "data": {
      "text/plain": [
       "OneHotEncoder(categories='auto', drop=None, dtype=<class 'numpy.float64'>,\n",
       "              handle_unknown='ignore', sparse=True)"
      ]
     },
     "execution_count": 54,
     "metadata": {},
     "output_type": "execute_result"
    }
   ],
   "source": [
    "one_hot = OneHotEncoder(handle_unknown=\"ignore\")\n",
    "one_hot.fit([[genre] for genre in genres])"
   ]
  },
  {
   "cell_type": "code",
   "execution_count": 55,
   "metadata": {},
   "outputs": [],
   "source": [
    "def get_genres_vector(genres_str: str):\n",
    "    \"\"\"returns the sum of the one-hot representations of the genres\"\"\"\n",
    "    genres = genres_str.split(\";\")\n",
    "    genres_vector = sum([one_hot.transform([[genre]]).toarray() for genre in genres])[0]\n",
    "    return genres_vector"
   ]
  },
  {
   "cell_type": "code",
   "execution_count": 56,
   "metadata": {},
   "outputs": [],
   "source": [
    "animes_df[\"genres\"] = animes_df.genres.apply(get_genres_vector)\n",
    "animes_df[\"name\"] = animes_df.name.apply(lambda x: re.sub(r\"\\s\\s+\", \" \", re.sub(r\"[\\_+-]\", \" \", x)))\n",
    "animes_df.to_pickle(\"./anime_genres_df.pkl\")"
   ]
  },
  {
   "cell_type": "markdown",
   "metadata": {},
   "source": [
    "### Testing recommender"
   ]
  },
  {
   "cell_type": "code",
   "execution_count": 57,
   "metadata": {},
   "outputs": [],
   "source": [
    "anime_genres_df = pd.read_pickle(\"./anime_genres_df.pkl\")"
   ]
  },
  {
   "cell_type": "code",
   "execution_count": 93,
   "metadata": {
    "scrolled": false
   },
   "outputs": [
    {
     "name": "stdout",
     "output_type": "stream",
     "text": [
      "                                                   name   code   premiered  \\\n",
      "377                              the god of high school  41353  2020-01-07   \n",
      "1768  muhyo to rouji no mahouritsu soudan jimusho 2n...  39948  2020-01-07   \n",
      "265                       enen no shouboutai ni no shou  40956  2020-01-07   \n",
      "458   sword art online alicization war of underworld...  40540  2020-01-07   \n",
      "1102                                         deca dence  40056  2020-01-07   \n",
      "\n",
      "                                                 genres  similarity  \n",
      "377   [1.0, 1.0, 0.0, 1.0, 0.0, 0.0, 0.0, 0.0, 1.0, ...         4.0  \n",
      "1768  [1.0, 0.0, 0.0, 1.0, 0.0, 0.0, 1.0, 0.0, 0.0, ...         3.0  \n",
      "265   [1.0, 0.0, 0.0, 0.0, 0.0, 0.0, 0.0, 0.0, 0.0, ...         2.0  \n",
      "458   [1.0, 1.0, 0.0, 0.0, 0.0, 0.0, 0.0, 0.0, 1.0, ...         2.0  \n",
      "1102  [1.0, 1.0, 0.0, 0.0, 0.0, 0.0, 0.0, 0.0, 0.0, ...         2.0  \n"
     ]
    }
   ],
   "source": [
    "df = anime_genres_df.copy()\n",
    "anime_data = df.loc[anime_genres_df[\"name\"] == \"naruto\"]\n",
    "df[\"similarity\"] = df.genres.map(lambda x: np.dot(x, anime_data[\"genres\"].values[0]))\n",
    "df = df.sort_values(by=[\"premiered\", \"similarity\"], ascending=False)\n",
    "print(df.head())\n",
    "recommendations = df.iloc[:num_recommendations].code.tolist()"
   ]
  },
  {
   "cell_type": "code",
   "execution_count": 92,
   "metadata": {
    "scrolled": true
   },
   "outputs": [
    {
     "data": {
      "text/plain": [
       "[41353, 39948, 40956, 40540, 40056]"
      ]
     },
     "execution_count": 92,
     "metadata": {},
     "output_type": "execute_result"
    }
   ],
   "source": [
    "recommendations"
   ]
  },
  {
   "cell_type": "code",
   "execution_count": null,
   "metadata": {},
   "outputs": [],
   "source": []
  }
 ],
 "metadata": {
  "kernelspec": {
   "display_name": "Python 3",
   "language": "python",
   "name": "python3"
  },
  "language_info": {
   "codemirror_mode": {
    "name": "ipython",
    "version": 3
   },
   "file_extension": ".py",
   "mimetype": "text/x-python",
   "name": "python",
   "nbconvert_exporter": "python",
   "pygments_lexer": "ipython3",
   "version": "3.7.3"
  }
 },
 "nbformat": 4,
 "nbformat_minor": 2
}
