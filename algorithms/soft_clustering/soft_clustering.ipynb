{
 "cells": [
  {
   "cell_type": "code",
   "execution_count": 1,
   "metadata": {},
   "outputs": [],
   "source": [
    "import os\n",
    "import pickle\n",
    "import numpy as np\n",
    "import pandas as pd\n",
    "from sklearn.preprocessing import OneHotEncoder"
   ]
  },
  {
   "cell_type": "code",
   "execution_count": 2,
   "metadata": {},
   "outputs": [],
   "source": [
    "files_path = \"../../data/anime_codes_by_genre/\"\n",
    "anime_files = os.listdir(files_path)"
   ]
  },
  {
   "cell_type": "code",
   "execution_count": 3,
   "metadata": {},
   "outputs": [],
   "source": [
    "anime_genres = [file.lower().split(\".\")[0] for file in anime_files]"
   ]
  },
  {
   "cell_type": "code",
   "execution_count": 4,
   "metadata": {},
   "outputs": [],
   "source": [
    "one_hot = OneHotEncoder(handle_unknown=\"ignore\")"
   ]
  },
  {
   "cell_type": "code",
   "execution_count": 5,
   "metadata": {
    "scrolled": false
   },
   "outputs": [
    {
     "data": {
      "text/plain": [
       "OneHotEncoder(categories='auto', drop=None, dtype=<class 'numpy.float64'>,\n",
       "              handle_unknown='ignore', sparse=True)"
      ]
     },
     "execution_count": 5,
     "metadata": {},
     "output_type": "execute_result"
    }
   ],
   "source": [
    "one_hot.fit([[genre] for genre in anime_genres])"
   ]
  },
  {
   "cell_type": "code",
   "execution_count": 7,
   "metadata": {
    "scrolled": true
   },
   "outputs": [],
   "source": [
    "animes_with_genres = dict()\n",
    "for file in anime_files:\n",
    "    current_df = pd.read_csv(os.path.join(files_path, file), encoding=\"utf-8\")\n",
    "    current_df = current_df[current_df.rating >= 6.5]\n",
    "    for code in current_df.code.to_list():\n",
    "        animes_with_genres.setdefault(code, np.zeros((1,len(anime_files))))\n",
    "        genre = file.lower().split(\".\")[0]\n",
    "        animes_with_genres[code] += one_hot.transform([[genre]]).toarray()"
   ]
  },
  {
   "cell_type": "code",
   "execution_count": 8,
   "metadata": {},
   "outputs": [],
   "source": [
    "pickle.dump(animes_with_genres, open(\"./anime_genres.pickle\", \"wb\"))"
   ]
  },
  {
   "cell_type": "code",
   "execution_count": null,
   "metadata": {},
   "outputs": [],
   "source": [
    "def get_recommendations(anime_code: int):\n",
    "    anime_genres = animes_with_genres.get(anime_code)[0]\n",
    "    indexes = [i for i in range(0, len(anime_genres)) if anime_genres[i] == 1]\n",
    "    top_recommendations = []\n",
    "    for key, values in animes_with_genres.items():\n",
    "        similarity = sum(values[0][indexes])\n",
    "        if key!=anime_code:\n",
    "            if not top_recommendations or len(top_recommendations)<5:\n",
    "                top_recommendations.append([key, similarity])\n",
    "                continue            \n",
    "            for idx, recommendation in enumerate(top_recommendations):\n",
    "                if similarity > recommendation[1]:\n",
    "                    top_recommendations[idx] = [key, similarity]\n",
    "                    break\n",
    "                    \n",
    "    return top_recommendations"
   ]
  },
  {
   "cell_type": "code",
   "execution_count": null,
   "metadata": {},
   "outputs": [],
   "source": [
    "len(animes_with_genres)"
   ]
  },
  {
   "cell_type": "code",
   "execution_count": null,
   "metadata": {},
   "outputs": [],
   "source": []
  }
 ],
 "metadata": {
  "kernelspec": {
   "display_name": "Python 3",
   "language": "python",
   "name": "python3"
  },
  "language_info": {
   "codemirror_mode": {
    "name": "ipython",
    "version": 3
   },
   "file_extension": ".py",
   "mimetype": "text/x-python",
   "name": "python",
   "nbconvert_exporter": "python",
   "pygments_lexer": "ipython3",
   "version": "3.7.3"
  }
 },
 "nbformat": 4,
 "nbformat_minor": 2
}
